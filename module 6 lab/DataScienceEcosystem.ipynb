{
  "metadata": {
    "kernelspec": {
      "name": "python",
      "display_name": "Python (Pyodide)",
      "language": "python"
    },
    "language_info": {
      "codemirror_mode": {
        "name": "python",
        "version": 3
      },
      "file_extension": ".py",
      "mimetype": "text/x-python",
      "name": "python",
      "nbconvert_exporter": "python",
      "pygments_lexer": "ipython3",
      "version": "3.8"
    }
  },
  "nbformat_minor": 5,
  "nbformat": 4,
  "cells": [
    {
      "id": "6fedf13b-6320-4a5d-8cfc-cad132041487",
      "cell_type": "markdown",
      "source": "# Data Science Tools and Ecosystem ",
      "metadata": {}
    },
    {
      "id": "597b1c24-fc87-4bfa-b470-6750587c748f",
      "cell_type": "markdown",
      "source": "In this notebook, Data Science Tools and Ecosystem are summarized.",
      "metadata": {}
    },
    {
      "id": "d4c236d7-1d8d-4a9f-8265-7e34df812f1c",
      "cell_type": "markdown",
      "source": "**Objectives:**\n- create documents\n- share documents containing code\n- visualizations",
      "metadata": {}
    },
    {
      "id": "9899bb10-f96a-47f1-abca-8c4b96c7e1bd",
      "cell_type": "markdown",
      "source": "Some of the popular languages that Data Scientists use are:\n1. Python\n2. R\n3. Scala",
      "metadata": {}
    },
    {
      "id": "74e3b8f7-3b17-422c-894e-94b099ca8391",
      "cell_type": "markdown",
      "source": "Some of the commonly used libraries used by Data Scientists include:\n1. Pandas\n2. NumPy\n3. SciPy \n4. Matplotlib",
      "metadata": {}
    },
    {
      "id": "123e0f6f-a4eb-4b1b-87bf-d478d1a3f368",
      "cell_type": "markdown",
      "source": "|Data Science Tools|\n|----|\n|Anaconda |\n|JupiterLite|\n|Jupyter Lab |",
      "metadata": {}
    },
    {
      "id": "e11b6831-2782-4ba1-a1e6-bf32d5958396",
      "cell_type": "markdown",
      "source": "### Below are a few examples of evaluating arithmetic expressions in Python",
      "metadata": {}
    },
    {
      "id": "46fb6825-4294-45d9-857a-cdfe7236d152",
      "cell_type": "code",
      "source": "# This a simple arithmetic expression to mutiply then add integers\n(3*4)+5",
      "metadata": {
        "trusted": true
      },
      "outputs": [
        {
          "execution_count": 5,
          "output_type": "execute_result",
          "data": {
            "text/plain": "17"
          },
          "metadata": {}
        }
      ],
      "execution_count": 5
    },
    {
      "id": "ca9814ad-896e-4f91-9c79-9b79ea117d7a",
      "cell_type": "code",
      "source": "# This will convert 200 minutes to hours by diving by 60\n200/60",
      "metadata": {
        "trusted": true
      },
      "outputs": [
        {
          "execution_count": 6,
          "output_type": "execute_result",
          "data": {
            "text/plain": "3.3333333333333335"
          },
          "metadata": {}
        }
      ],
      "execution_count": 6
    },
    {
      "id": "41fea876-3ec8-4f0c-b0d5-394fca9e1fa3",
      "cell_type": "markdown",
      "source": "## Author \nOleksii Kireiko",
      "metadata": {}
    },
    {
      "id": "5edd2c55-8999-4d07-a7a4-5c08533f8fe4",
      "cell_type": "code",
      "source": "",
      "metadata": {
        "trusted": true
      },
      "outputs": [],
      "execution_count": null
    }
  ]
}